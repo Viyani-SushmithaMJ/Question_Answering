{
 "cells": [
  {
   "cell_type": "markdown",
   "id": "8cd369ab",
   "metadata": {},
   "source": [
    "Step 1. Install Necessary Libraries "
   ]
  },
  {
   "cell_type": "code",
   "execution_count": 20,
   "id": "a5f49a55",
   "metadata": {},
   "outputs": [
    {
     "name": "stdout",
     "output_type": "stream",
     "text": [
      "Requirement already satisfied: huggingface_hub in /system/conda/miniconda3/envs/cloudspace/lib/python3.10/site-packages (0.26.2)\n",
      "Requirement already satisfied: filelock in /system/conda/miniconda3/envs/cloudspace/lib/python3.10/site-packages (from huggingface_hub) (3.16.1)\n",
      "Requirement already satisfied: fsspec>=2023.5.0 in /system/conda/miniconda3/envs/cloudspace/lib/python3.10/site-packages (from huggingface_hub) (2024.9.0)\n",
      "Requirement already satisfied: packaging>=20.9 in /system/conda/miniconda3/envs/cloudspace/lib/python3.10/site-packages (from huggingface_hub) (24.1)\n",
      "Requirement already satisfied: pyyaml>=5.1 in /system/conda/miniconda3/envs/cloudspace/lib/python3.10/site-packages (from huggingface_hub) (6.0.2)\n",
      "Requirement already satisfied: requests in /system/conda/miniconda3/envs/cloudspace/lib/python3.10/site-packages (from huggingface_hub) (2.32.3)\n",
      "Requirement already satisfied: tqdm>=4.42.1 in /system/conda/miniconda3/envs/cloudspace/lib/python3.10/site-packages (from huggingface_hub) (4.66.6)\n",
      "Requirement already satisfied: typing-extensions>=3.7.4.3 in /system/conda/miniconda3/envs/cloudspace/lib/python3.10/site-packages (from huggingface_hub) (4.12.2)\n",
      "Requirement already satisfied: charset-normalizer<4,>=2 in /system/conda/miniconda3/envs/cloudspace/lib/python3.10/site-packages (from requests->huggingface_hub) (3.4.0)\n",
      "Requirement already satisfied: idna<4,>=2.5 in /system/conda/miniconda3/envs/cloudspace/lib/python3.10/site-packages (from requests->huggingface_hub) (3.10)\n",
      "Requirement already satisfied: urllib3<3,>=1.21.1 in /system/conda/miniconda3/envs/cloudspace/lib/python3.10/site-packages (from requests->huggingface_hub) (2.2.3)\n",
      "Requirement already satisfied: certifi>=2017.4.17 in /system/conda/miniconda3/envs/cloudspace/lib/python3.10/site-packages (from requests->huggingface_hub) (2024.8.30)\n",
      "Requirement already satisfied: transformers in /system/conda/miniconda3/envs/cloudspace/lib/python3.10/site-packages (4.46.2)\n",
      "Requirement already satisfied: filelock in /system/conda/miniconda3/envs/cloudspace/lib/python3.10/site-packages (from transformers) (3.16.1)\n",
      "Requirement already satisfied: huggingface-hub<1.0,>=0.23.2 in /system/conda/miniconda3/envs/cloudspace/lib/python3.10/site-packages (from transformers) (0.26.2)\n",
      "Requirement already satisfied: numpy>=1.17 in /system/conda/miniconda3/envs/cloudspace/lib/python3.10/site-packages (from transformers) (1.26.4)\n",
      "Requirement already satisfied: packaging>=20.0 in /system/conda/miniconda3/envs/cloudspace/lib/python3.10/site-packages (from transformers) (24.1)\n",
      "Requirement already satisfied: pyyaml>=5.1 in /system/conda/miniconda3/envs/cloudspace/lib/python3.10/site-packages (from transformers) (6.0.2)\n",
      "Requirement already satisfied: regex!=2019.12.17 in /system/conda/miniconda3/envs/cloudspace/lib/python3.10/site-packages (from transformers) (2024.11.6)\n",
      "Requirement already satisfied: requests in /system/conda/miniconda3/envs/cloudspace/lib/python3.10/site-packages (from transformers) (2.32.3)\n",
      "Requirement already satisfied: safetensors>=0.4.1 in /system/conda/miniconda3/envs/cloudspace/lib/python3.10/site-packages (from transformers) (0.4.5)\n",
      "Requirement already satisfied: tokenizers<0.21,>=0.20 in /system/conda/miniconda3/envs/cloudspace/lib/python3.10/site-packages (from transformers) (0.20.3)\n",
      "Requirement already satisfied: tqdm>=4.27 in /system/conda/miniconda3/envs/cloudspace/lib/python3.10/site-packages (from transformers) (4.66.6)\n",
      "Requirement already satisfied: fsspec>=2023.5.0 in /system/conda/miniconda3/envs/cloudspace/lib/python3.10/site-packages (from huggingface-hub<1.0,>=0.23.2->transformers) (2024.9.0)\n",
      "Requirement already satisfied: typing-extensions>=3.7.4.3 in /system/conda/miniconda3/envs/cloudspace/lib/python3.10/site-packages (from huggingface-hub<1.0,>=0.23.2->transformers) (4.12.2)\n",
      "Requirement already satisfied: charset-normalizer<4,>=2 in /system/conda/miniconda3/envs/cloudspace/lib/python3.10/site-packages (from requests->transformers) (3.4.0)\n",
      "Requirement already satisfied: idna<4,>=2.5 in /system/conda/miniconda3/envs/cloudspace/lib/python3.10/site-packages (from requests->transformers) (3.10)\n",
      "Requirement already satisfied: urllib3<3,>=1.21.1 in /system/conda/miniconda3/envs/cloudspace/lib/python3.10/site-packages (from requests->transformers) (2.2.3)\n",
      "Requirement already satisfied: certifi>=2017.4.17 in /system/conda/miniconda3/envs/cloudspace/lib/python3.10/site-packages (from requests->transformers) (2024.8.30)\n",
      "Requirement already satisfied: gradio in /system/conda/miniconda3/envs/cloudspace/lib/python3.10/site-packages (5.7.1)\n",
      "Requirement already satisfied: aiofiles<24.0,>=22.0 in /system/conda/miniconda3/envs/cloudspace/lib/python3.10/site-packages (from gradio) (23.2.1)\n",
      "Requirement already satisfied: anyio<5.0,>=3.0 in /system/conda/miniconda3/envs/cloudspace/lib/python3.10/site-packages (from gradio) (4.6.2.post1)\n",
      "Requirement already satisfied: fastapi<1.0,>=0.115.2 in /system/conda/miniconda3/envs/cloudspace/lib/python3.10/site-packages (from gradio) (0.115.4)\n",
      "Requirement already satisfied: ffmpy in /system/conda/miniconda3/envs/cloudspace/lib/python3.10/site-packages (from gradio) (0.4.0)\n",
      "Requirement already satisfied: gradio-client==1.5.0 in /system/conda/miniconda3/envs/cloudspace/lib/python3.10/site-packages (from gradio) (1.5.0)\n",
      "Requirement already satisfied: httpx>=0.24.1 in /system/conda/miniconda3/envs/cloudspace/lib/python3.10/site-packages (from gradio) (0.27.2)\n",
      "Requirement already satisfied: huggingface-hub>=0.25.1 in /system/conda/miniconda3/envs/cloudspace/lib/python3.10/site-packages (from gradio) (0.26.2)\n",
      "Requirement already satisfied: jinja2<4.0 in /system/conda/miniconda3/envs/cloudspace/lib/python3.10/site-packages (from gradio) (3.1.4)\n",
      "Requirement already satisfied: markupsafe~=2.0 in /system/conda/miniconda3/envs/cloudspace/lib/python3.10/site-packages (from gradio) (2.1.5)\n",
      "Requirement already satisfied: numpy<3.0,>=1.0 in /system/conda/miniconda3/envs/cloudspace/lib/python3.10/site-packages (from gradio) (1.26.4)\n",
      "Requirement already satisfied: orjson~=3.0 in /system/conda/miniconda3/envs/cloudspace/lib/python3.10/site-packages (from gradio) (3.10.12)\n",
      "Requirement already satisfied: packaging in /system/conda/miniconda3/envs/cloudspace/lib/python3.10/site-packages (from gradio) (24.1)\n",
      "Requirement already satisfied: pandas<3.0,>=1.0 in /system/conda/miniconda3/envs/cloudspace/lib/python3.10/site-packages (from gradio) (2.1.4)\n",
      "Requirement already satisfied: pillow<12.0,>=8.0 in /system/conda/miniconda3/envs/cloudspace/lib/python3.10/site-packages (from gradio) (11.0.0)\n",
      "Requirement already satisfied: pydantic>=2.0 in /system/conda/miniconda3/envs/cloudspace/lib/python3.10/site-packages (from gradio) (2.9.2)\n",
      "Requirement already satisfied: pydub in /system/conda/miniconda3/envs/cloudspace/lib/python3.10/site-packages (from gradio) (0.25.1)\n",
      "Requirement already satisfied: python-multipart==0.0.12 in /system/conda/miniconda3/envs/cloudspace/lib/python3.10/site-packages (from gradio) (0.0.12)\n",
      "Requirement already satisfied: pyyaml<7.0,>=5.0 in /system/conda/miniconda3/envs/cloudspace/lib/python3.10/site-packages (from gradio) (6.0.2)\n",
      "Requirement already satisfied: ruff>=0.2.2 in /system/conda/miniconda3/envs/cloudspace/lib/python3.10/site-packages (from gradio) (0.8.0)\n",
      "Requirement already satisfied: safehttpx<1.0,>=0.1.1 in /system/conda/miniconda3/envs/cloudspace/lib/python3.10/site-packages (from gradio) (0.1.1)\n",
      "Requirement already satisfied: semantic-version~=2.0 in /system/conda/miniconda3/envs/cloudspace/lib/python3.10/site-packages (from gradio) (2.10.0)\n",
      "Requirement already satisfied: starlette<1.0,>=0.40.0 in /system/conda/miniconda3/envs/cloudspace/lib/python3.10/site-packages (from gradio) (0.41.2)\n",
      "Requirement already satisfied: tomlkit==0.12.0 in /system/conda/miniconda3/envs/cloudspace/lib/python3.10/site-packages (from gradio) (0.12.0)\n",
      "Requirement already satisfied: typer<1.0,>=0.12 in /system/conda/miniconda3/envs/cloudspace/lib/python3.10/site-packages (from gradio) (0.14.0)\n",
      "Requirement already satisfied: typing-extensions~=4.0 in /system/conda/miniconda3/envs/cloudspace/lib/python3.10/site-packages (from gradio) (4.12.2)\n",
      "Requirement already satisfied: uvicorn>=0.14.0 in /system/conda/miniconda3/envs/cloudspace/lib/python3.10/site-packages (from gradio) (0.32.0)\n",
      "Requirement already satisfied: fsspec in /system/conda/miniconda3/envs/cloudspace/lib/python3.10/site-packages (from gradio-client==1.5.0->gradio) (2024.9.0)\n",
      "Requirement already satisfied: websockets<13.0,>=10.0 in /system/conda/miniconda3/envs/cloudspace/lib/python3.10/site-packages (from gradio-client==1.5.0->gradio) (12.0)\n",
      "Requirement already satisfied: idna>=2.8 in /system/conda/miniconda3/envs/cloudspace/lib/python3.10/site-packages (from anyio<5.0,>=3.0->gradio) (3.10)\n",
      "Requirement already satisfied: sniffio>=1.1 in /system/conda/miniconda3/envs/cloudspace/lib/python3.10/site-packages (from anyio<5.0,>=3.0->gradio) (1.3.1)\n",
      "Requirement already satisfied: exceptiongroup>=1.0.2 in /system/conda/miniconda3/envs/cloudspace/lib/python3.10/site-packages (from anyio<5.0,>=3.0->gradio) (1.2.2)\n",
      "Requirement already satisfied: certifi in /system/conda/miniconda3/envs/cloudspace/lib/python3.10/site-packages (from httpx>=0.24.1->gradio) (2024.8.30)\n",
      "Requirement already satisfied: httpcore==1.* in /system/conda/miniconda3/envs/cloudspace/lib/python3.10/site-packages (from httpx>=0.24.1->gradio) (1.0.6)\n",
      "Requirement already satisfied: h11<0.15,>=0.13 in /system/conda/miniconda3/envs/cloudspace/lib/python3.10/site-packages (from httpcore==1.*->httpx>=0.24.1->gradio) (0.14.0)\n",
      "Requirement already satisfied: filelock in /system/conda/miniconda3/envs/cloudspace/lib/python3.10/site-packages (from huggingface-hub>=0.25.1->gradio) (3.16.1)\n",
      "Requirement already satisfied: requests in /system/conda/miniconda3/envs/cloudspace/lib/python3.10/site-packages (from huggingface-hub>=0.25.1->gradio) (2.32.3)\n",
      "Requirement already satisfied: tqdm>=4.42.1 in /system/conda/miniconda3/envs/cloudspace/lib/python3.10/site-packages (from huggingface-hub>=0.25.1->gradio) (4.66.6)\n",
      "Requirement already satisfied: python-dateutil>=2.8.2 in /system/conda/miniconda3/envs/cloudspace/lib/python3.10/site-packages (from pandas<3.0,>=1.0->gradio) (2.9.0.post0)\n",
      "Requirement already satisfied: pytz>=2020.1 in /system/conda/miniconda3/envs/cloudspace/lib/python3.10/site-packages (from pandas<3.0,>=1.0->gradio) (2024.2)\n",
      "Requirement already satisfied: tzdata>=2022.1 in /system/conda/miniconda3/envs/cloudspace/lib/python3.10/site-packages (from pandas<3.0,>=1.0->gradio) (2024.2)\n",
      "Requirement already satisfied: annotated-types>=0.6.0 in /system/conda/miniconda3/envs/cloudspace/lib/python3.10/site-packages (from pydantic>=2.0->gradio) (0.7.0)\n",
      "Requirement already satisfied: pydantic-core==2.23.4 in /system/conda/miniconda3/envs/cloudspace/lib/python3.10/site-packages (from pydantic>=2.0->gradio) (2.23.4)\n",
      "Requirement already satisfied: click>=8.0.0 in /system/conda/miniconda3/envs/cloudspace/lib/python3.10/site-packages (from typer<1.0,>=0.12->gradio) (8.1.7)\n",
      "Requirement already satisfied: shellingham>=1.3.0 in /system/conda/miniconda3/envs/cloudspace/lib/python3.10/site-packages (from typer<1.0,>=0.12->gradio) (1.5.4)\n",
      "Requirement already satisfied: rich>=10.11.0 in /system/conda/miniconda3/envs/cloudspace/lib/python3.10/site-packages (from typer<1.0,>=0.12->gradio) (13.9.4)\n",
      "Requirement already satisfied: six>=1.5 in /system/conda/miniconda3/envs/cloudspace/lib/python3.10/site-packages (from python-dateutil>=2.8.2->pandas<3.0,>=1.0->gradio) (1.16.0)\n",
      "Requirement already satisfied: markdown-it-py>=2.2.0 in /system/conda/miniconda3/envs/cloudspace/lib/python3.10/site-packages (from rich>=10.11.0->typer<1.0,>=0.12->gradio) (3.0.0)\n",
      "Requirement already satisfied: pygments<3.0.0,>=2.13.0 in /system/conda/miniconda3/envs/cloudspace/lib/python3.10/site-packages (from rich>=10.11.0->typer<1.0,>=0.12->gradio) (2.18.0)\n",
      "Requirement already satisfied: charset-normalizer<4,>=2 in /system/conda/miniconda3/envs/cloudspace/lib/python3.10/site-packages (from requests->huggingface-hub>=0.25.1->gradio) (3.4.0)\n",
      "Requirement already satisfied: urllib3<3,>=1.21.1 in /system/conda/miniconda3/envs/cloudspace/lib/python3.10/site-packages (from requests->huggingface-hub>=0.25.1->gradio) (2.2.3)\n",
      "Requirement already satisfied: mdurl~=0.1 in /system/conda/miniconda3/envs/cloudspace/lib/python3.10/site-packages (from markdown-it-py>=2.2.0->rich>=10.11.0->typer<1.0,>=0.12->gradio) (0.1.2)\n"
     ]
    },
    {
     "name": "stderr",
     "output_type": "stream",
     "text": [
      "Traceback (most recent call last):\n",
      "  File \"/home/zeus/miniconda3/envs/cloudspace/lib/python3.10/site-packages/gradio/queueing.py\", line 624, in process_events\n",
      "    response = await route_utils.call_process_api(\n",
      "  File \"/home/zeus/miniconda3/envs/cloudspace/lib/python3.10/site-packages/gradio/route_utils.py\", line 323, in call_process_api\n",
      "    output = await app.get_blocks().process_api(\n",
      "  File \"/home/zeus/miniconda3/envs/cloudspace/lib/python3.10/site-packages/gradio/blocks.py\", line 2019, in process_api\n",
      "    result = await self.call_function(\n",
      "  File \"/home/zeus/miniconda3/envs/cloudspace/lib/python3.10/site-packages/gradio/blocks.py\", line 1566, in call_function\n",
      "    prediction = await anyio.to_thread.run_sync(  # type: ignore\n",
      "  File \"/home/zeus/miniconda3/envs/cloudspace/lib/python3.10/site-packages/anyio/to_thread.py\", line 56, in run_sync\n",
      "    return await get_async_backend().run_sync_in_worker_thread(\n",
      "  File \"/home/zeus/miniconda3/envs/cloudspace/lib/python3.10/site-packages/anyio/_backends/_asyncio.py\", line 2441, in run_sync_in_worker_thread\n",
      "    return await future\n",
      "  File \"/home/zeus/miniconda3/envs/cloudspace/lib/python3.10/site-packages/anyio/_backends/_asyncio.py\", line 943, in run\n",
      "    result = context.run(func, *args)\n",
      "  File \"/home/zeus/miniconda3/envs/cloudspace/lib/python3.10/site-packages/gradio/utils.py\", line 865, in wrapper\n",
      "    response = f(*args, **kwargs)\n",
      "  File \"/tmp/ipykernel_2758/2327603748.py\", line 4, in qa_interface\n",
      "    answer = bert_qa(question=question, context=context)['answer']\n",
      "  File \"/home/zeus/miniconda3/envs/cloudspace/lib/python3.10/site-packages/transformers/pipelines/question_answering.py\", line 396, in __call__\n",
      "    examples = self._args_parser(*args, **kwargs)\n",
      "  File \"/home/zeus/miniconda3/envs/cloudspace/lib/python3.10/site-packages/transformers/pipelines/question_answering.py\", line 227, in __call__\n",
      "    inputs[i] = self.normalize(item)\n",
      "  File \"/home/zeus/miniconda3/envs/cloudspace/lib/python3.10/site-packages/transformers/pipelines/question_answering.py\", line 169, in normalize\n",
      "    raise ValueError(f\"`{k}` cannot be empty\")\n",
      "ValueError: `question` cannot be empty\n"
     ]
    }
   ],
   "source": [
    "!pip install huggingface_hub\n",
    "!pip install transformers\n",
    "!pip install gradio"
   ]
  },
  {
   "cell_type": "markdown",
   "id": "6407ce67",
   "metadata": {},
   "source": [
    "Step 2. Check/ Set up  Device Environment"
   ]
  },
  {
   "cell_type": "code",
   "execution_count": 4,
   "id": "cb170de8",
   "metadata": {},
   "outputs": [],
   "source": [
    "import torch\n",
    "if torch.cuda.is_available():\n",
    "    device = torch.device('cuda')  # CUDA GPU\n",
    "elif torch.backends.mps.is_available():\n",
    "    device = torch.device('mps') #Apple GPU\n",
    "else:\n",
    "    device = torch.device(\"cpu\")"
   ]
  },
  {
   "cell_type": "code",
   "execution_count": 5,
   "id": "ecabbbf2",
   "metadata": {},
   "outputs": [
    {
     "name": "stdout",
     "output_type": "stream",
     "text": [
      "Using device: cuda\n",
      "Device name:  Tesla T4\n",
      "Device properties: _CudaDeviceProperties(name='Tesla T4', major=7, minor=5, total_memory=15102MB, multi_processor_count=40)\n",
      "Memory Usage:\n",
      "Allocated: 0.0 GB\n",
      "Cached:    0.0 GB\n"
     ]
    }
   ],
   "source": [
    "print('Using device:', device)\n",
    "#Additional Info when using cuda\n",
    "if device.type == 'cuda':\n",
    "    print(\"Device name: \", torch.cuda.get_device_name(0))\n",
    "    print(\"Device properties:\", torch.cuda.get_device_properties(0))\n",
    "    print('Memory Usage:')\n",
    "    print('Allocated:', round(torch.cuda.memory_allocated(0)/1024**3,1), 'GB')\n",
    "    print('Cached:   ', round(torch.cuda.memory_reserved(0)/1024**3,1), 'GB')"
   ]
  },
  {
   "cell_type": "code",
   "execution_count": 6,
   "id": "1b6081e0",
   "metadata": {},
   "outputs": [],
   "source": [
    "from transformers import pipeline, AutoModelForQuestionAnswering, AutoTokenizer\n",
    "from datasets import load_dataset\n",
    "import gradio as gr\n",
    "import numpy as np"
   ]
  },
  {
   "cell_type": "markdown",
   "id": "a4fe998e",
   "metadata": {},
   "source": [
    "Step 3. Load Dataset(Chosen Dataset Squad For Question Answering) and Split Dataset"
   ]
  },
  {
   "cell_type": "code",
   "execution_count": 7,
   "id": "d167aeaf",
   "metadata": {},
   "outputs": [],
   "source": [
    "# Load SQuAD dataset\n",
    "squad = load_dataset(\"squad\")\n",
    "\n",
    "# Split the dataset into training and Test sets \n",
    "split = squad['train'].train_test_split(test_size=0.2, seed=42)\n",
    "train_dataset = split['train']\n",
    "validation_dataset = split['test']"
   ]
  },
  {
   "cell_type": "markdown",
   "id": "1e54b9e8",
   "metadata": {},
   "source": [
    "Step 4. Models and Tokenizers"
   ]
  },
  {
   "cell_type": "code",
   "execution_count": 8,
   "id": "a2748afb",
   "metadata": {},
   "outputs": [
    {
     "name": "stderr",
     "output_type": "stream",
     "text": [
      "Some weights of the model checkpoint at bert-large-uncased-whole-word-masking-finetuned-squad were not used when initializing BertForQuestionAnswering: ['bert.pooler.dense.bias', 'bert.pooler.dense.weight']\n",
      "- This IS expected if you are initializing BertForQuestionAnswering from the checkpoint of a model trained on another task or with another architecture (e.g. initializing a BertForSequenceClassification model from a BertForPreTraining model).\n",
      "- This IS NOT expected if you are initializing BertForQuestionAnswering from the checkpoint of a model that you expect to be exactly identical (initializing a BertForSequenceClassification model from a BertForSequenceClassification model).\n"
     ]
    }
   ],
   "source": [
    "# Load BERT and RoBERTa models and tokenizers\n",
    "bert_model = AutoModelForQuestionAnswering.from_pretrained(\"bert-large-uncased-whole-word-masking-finetuned-squad\")\n",
    "bert_tokenizer = AutoTokenizer.from_pretrained(\"bert-large-uncased-whole-word-masking-finetuned-squad\")\n",
    "\n",
    "roberta_model = AutoModelForQuestionAnswering.from_pretrained(\"deepset/roberta-base-squad2\")\n",
    "roberta_tokenizer = AutoTokenizer.from_pretrained(\"deepset/roberta-base-squad2\")"
   ]
  },
  {
   "cell_type": "markdown",
   "id": "732d6d14",
   "metadata": {},
   "source": [
    "Step 5. Pipelines for Question Answering"
   ]
  },
  {
   "cell_type": "code",
   "execution_count": 9,
   "id": "4e37aa78",
   "metadata": {},
   "outputs": [],
   "source": [
    "# Defining question answering pipelines\n",
    "bert_qa = pipeline(\"question-answering\", model=bert_model, tokenizer=bert_tokenizer, device=0)\n",
    "roberta_qa = pipeline(\"question-answering\", model=roberta_model, tokenizer=roberta_tokenizer, device=0)"
   ]
  },
  {
   "cell_type": "markdown",
   "id": "4470711d",
   "metadata": {},
   "source": [
    "Step 6. Evaluation"
   ]
  },
  {
   "cell_type": "code",
   "execution_count": 10,
   "id": "77fa13a4",
   "metadata": {},
   "outputs": [],
   "source": [
    "# Evaluating both chosen models\n",
    "def evaluate_model(model_qa, dataset):\n",
    "    results = []\n",
    "    for example in dataset:\n",
    "        question = example['question']\n",
    "        context = example['context']\n",
    "        ground_truth = example['answers']['text'][0]  \n",
    "\n",
    "        prediction = model_qa(question=question, context=context)\n",
    "        predicted_answer = prediction['answer']\n",
    "\n",
    "        em_score = int(predicted_answer.lower() == ground_truth.lower())\n",
    "        f1_score = compute_f1(predicted_answer, ground_truth)\n",
    "        \n",
    "        results.append({'question': question, 'ground_truth': ground_truth, \n",
    "                        'predicted_answer': predicted_answer, 'EM': em_score, 'F1': f1_score})\n",
    "    \n",
    "    return results"
   ]
  },
  {
   "cell_type": "code",
   "execution_count": 11,
   "id": "7f2a2468",
   "metadata": {},
   "outputs": [],
   "source": [
    "def compute_f1(predicted_answer, ground_truth):\n",
    "    predicted_tokens = set(predicted_answer.split())\n",
    "    ground_truth_tokens = set(ground_truth.split())\n",
    "    \n",
    "    intersection = predicted_tokens.intersection(ground_truth_tokens)\n",
    "    precision = len(intersection) / len(predicted_tokens) if predicted_tokens else 0\n",
    "    recall = len(intersection) / len(ground_truth_tokens) if ground_truth_tokens else 0\n",
    "    if precision + recall == 0:\n",
    "        return 0\n",
    "    return 2 * precision * recall / (precision + recall)"
   ]
  },
  {
   "cell_type": "code",
   "execution_count": 15,
   "id": "bf1e45bf",
   "metadata": {},
   "outputs": [],
   "source": [
    "# Use .select() to extract a subset of the validation dataset\n",
    "squad_validation_subset = validation_dataset.select(range(200))  # First 100 examples"
   ]
  },
  {
   "cell_type": "code",
   "execution_count": 16,
   "id": "635e3e88",
   "metadata": {},
   "outputs": [],
   "source": [
    "# Evaluate models\n",
    "bert_results = evaluate_model(bert_qa, squad_validation_subset)\n",
    "roberta_results = evaluate_model(roberta_qa, squad_validation_subset)"
   ]
  },
  {
   "cell_type": "markdown",
   "id": "17fd12ee",
   "metadata": {},
   "source": [
    "Step 7. Evaluate Metrics"
   ]
  },
  {
   "cell_type": "code",
   "execution_count": 17,
   "id": "17724532",
   "metadata": {},
   "outputs": [
    {
     "name": "stdout",
     "output_type": "stream",
     "text": [
      "BERT EM: 0.785, F1: 0.9226385865988606\n",
      "RoBERTa EM: 0.695, F1: 0.8657346837104207\n"
     ]
    }
   ],
   "source": [
    "# Calculate mean scores\n",
    "def mean_scores(results):\n",
    "    em_scores = [r['EM'] for r in results]\n",
    "    f1_scores = [r['F1'] for r in results]\n",
    "    return np.mean(em_scores), np.mean(f1_scores)\n",
    "\n",
    "bert_em, bert_f1 = mean_scores(bert_results)\n",
    "roberta_em, roberta_f1 = mean_scores(roberta_results)\n",
    "\n",
    "print(f\"BERT EM: {bert_em}, F1: {bert_f1}\")\n",
    "print(f\"RoBERTa EM: {roberta_em}, F1: {roberta_f1}\")"
   ]
  },
  {
   "cell_type": "markdown",
   "id": "51bab110",
   "metadata": {},
   "source": [
    "Step 8. Plot evaluation results"
   ]
  },
  {
   "cell_type": "code",
   "execution_count": 18,
   "id": "d6be28ac",
   "metadata": {},
   "outputs": [
    {
     "data": {
      "image/png": "[encoded data removed]",
      "text/plain": [
       "<Figure size 800x600 with 1 Axes>"
      ]
     },
     "metadata": {},
     "output_type": "display_data"
    }
   ],
   "source": [
    "import matplotlib.pyplot as plt\n",
    "\n",
    "# Add a function to plot the evaluation results\n",
    "def plot_evaluation_results(bert_em, bert_f1, roberta_em, roberta_f1):\n",
    "    models = ['BERT', 'RoBERTa']\n",
    "    em_scores = [bert_em, roberta_em]\n",
    "    f1_scores = [bert_f1, roberta_f1]\n",
    "\n",
    "    x = np.arange(len(models))  # the label locations\n",
    "    width = 0.35  # the width of the bars\n",
    "\n",
    "    fig, ax = plt.subplots(figsize=(8, 6))\n",
    "    bars1 = ax.bar(x - width/2, em_scores, width, label='Exact Match (EM)', color='skyblue')\n",
    "    bars2 = ax.bar(x + width/2, f1_scores, width, label='F1 Score', color='orange')\n",
    "\n",
    "    # Add text for labels, title, and axes\n",
    "    ax.set_xlabel('Models')\n",
    "    ax.set_ylabel('Scores')\n",
    "    ax.set_title('Evaluation Results: BERT vs. RoBERTa')\n",
    "    ax.set_xticks(x)\n",
    "    ax.set_xticklabels(models)\n",
    "    ax.legend()\n",
    "\n",
    "    # Attach numerical labels above bars\n",
    "    for bar in bars1 + bars2:\n",
    "        yval = bar.get_height()\n",
    "        ax.text(bar.get_x() + bar.get_width() / 2, yval, f'{yval:.2f}', ha='center', va='bottom')\n",
    "\n",
    "    plt.tight_layout()\n",
    "    plt.show()\n",
    "\n",
    "# Plot the evaluation results\n",
    "plot_evaluation_results(bert_em, bert_f1, roberta_em, roberta_f1)\n"
   ]
  },
  {
   "cell_type": "markdown",
   "id": "ed5e083d",
   "metadata": {},
   "source": [
    "Step 9. Gradio UI Interface"
   ]
  },
  {
   "cell_type": "code",
   "execution_count": 19,
   "id": "dfe9dd0a",
   "metadata": {},
   "outputs": [
    {
     "name": "stdout",
     "output_type": "stream",
     "text": [
      "* Running on local URL:  http://127.0.0.1:7860\n",
      "* Running on public URL: https://55cf7d6a6a35e11c8b.gradio.live\n",
      "\n",
      "This share link expires in 72 hours. For free permanent hosting and GPU upgrades, run `gradio deploy` from the terminal in the working directory to deploy to Hugging Face Spaces (https://huggingface.co/spaces)\n"
     ]
    },
    {
     "data": {
      "text/html": [
       "<div><iframe src=\"https://55cf7d6a6a35e11c8b.gradio.live\" width=\"100%\" height=\"500\" allow=\"autoplay; camera; microphone; clipboard-read; clipboard-write;\" frameborder=\"0\" allowfullscreen></iframe></div>"
      ],
      "text/plain": [
       "<IPython.core.display.HTML object>"
      ]
     },
     "metadata": {},
     "output_type": "display_data"
    },
    {
     "data": {
      "text/plain": []
     },
     "execution_count": 19,
     "metadata": {},
     "output_type": "execute_result"
    }
   ],
   "source": [
    "# Gradio UI Interface\n",
    "def qa_interface(question, context, model_choice):\n",
    "    if model_choice == 'BERT':\n",
    "        answer = bert_qa(question=question, context=context)['answer']\n",
    "    elif model_choice == 'RoBERTa':\n",
    "        answer = roberta_qa(question=question, context=context)['answer']\n",
    "    return answer\n",
    "\n",
    "gr.Interface(\n",
    "    fn=qa_interface, \n",
    "    inputs=[\n",
    "        gr.Textbox(label=\"Ask a Question\"),  \n",
    "        gr.Textbox(label=\"Provide Context\"),  \n",
    "        gr.Dropdown(label=\"Select Model\", choices=['BERT', 'RoBERTa'], value='BERT')  \n",
    "    ],\n",
    "    outputs=\"text\",  \n",
    "    live=True,  \n",
    "    title=\"Question Answering with BERT and RoBERTa\"\n",
    ").launch(share=True)"
   ]
  },
  {
   "cell_type": "markdown",
   "id": "5001b360",
   "metadata": {},
   "source": []
  }
 ],
 "metadata": {
  "kernelspec": {
   "display_name": "Python 3",
   "language": "python",
   "name": "python3"
  },
  "language_info": {
   "codemirror_mode": {
    "name": "ipython",
    "version": 3
   },
   "file_extension": ".py",
   "mimetype": "text/x-python",
   "name": "python",
   "nbconvert_exporter": "python",
   "pygments_lexer": "ipython3",
   "version": "3.10.10"
  }
 },
 "nbformat": 4,
 "nbformat_minor": 5
}
